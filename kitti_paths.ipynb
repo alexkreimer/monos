{
 "cells": [
  {
   "cell_type": "code",
   "execution_count": 8,
   "metadata": {
    "collapsed": true
   },
   "outputs": [],
   "source": [
    "%matplotlib inline"
   ]
  },
  {
   "cell_type": "code",
   "execution_count": 23,
   "metadata": {
    "collapsed": true
   },
   "outputs": [],
   "source": [
    "import numpy as np\n",
    "from numpy import linalg as LA\n",
    "import os, pickle, gzip\n",
    "\n",
    "import matplotlib.pyplot as plt\n",
    "import matplotlib\n",
    "import matplotlib.ticker as plticker\n",
    "from matplotlib import cm\n",
    "import gzip\n",
    "\n",
    "matplotlib.rcParams['figure.figsize'] = (20.0, 10.0)\n",
    "\n",
    "KITTI_HOME = '/home/kreimer/KITTI'"
   ]
  },
  {
   "cell_type": "code",
   "execution_count": 44,
   "metadata": {
    "collapsed": true
   },
   "outputs": [],
   "source": [
    "def read_dts(file):\n",
    "    dts = []\n",
    "    with open(file, 'r') as f:\n",
    "        for num, line in enumerate(f):\n",
    "            pose = np.array([float(val) for val in line.split()]).reshape(3,4)\n",
    "            pose = np.vstack((pose, [0, 0, 0, 1]))\n",
    "            try:\n",
    "                delta = np.dot(LA.inv(ppose), pose)\n",
    "            except NameError:\n",
    "                ppose = pose\n",
    "                continue\n",
    "            dt = delta[:3,3]\n",
    "            dts.append(dt)\n",
    "\n",
    "            ppose = pose\n",
    "    return dts"
   ]
  },
  {
   "cell_type": "code",
   "execution_count": 59,
   "metadata": {
    "collapsed": false
   },
   "outputs": [
    {
     "name": "stdout",
     "output_type": "stream",
     "text": [
      "read a total of 4069 scales from data/paths/08.txt\n",
      "ground truth scale: 0.776692622852\n"
     ]
    },
    {
     "ename": "AttributeError",
     "evalue": "'RandomForestRegressor' object has no attribute '_base_estimator_'",
     "output_type": "error",
     "traceback": [
      "\u001b[1;31m---------------------------------------------------------------------------\u001b[0m",
      "\u001b[1;31mAttributeError\u001b[0m                            Traceback (most recent call last)",
      "\u001b[1;32m<ipython-input-59-fc5248432722>\u001b[0m in \u001b[0;36m<module>\u001b[1;34m()\u001b[0m\n\u001b[0;32m     18\u001b[0m     \u001b[0mrf\u001b[0m \u001b[1;33m=\u001b[0m \u001b[0mpickle\u001b[0m\u001b[1;33m.\u001b[0m\u001b[0mload\u001b[0m\u001b[1;33m(\u001b[0m\u001b[0mfd\u001b[0m\u001b[1;33m)\u001b[0m\u001b[1;33m\u001b[0m\u001b[0m\n\u001b[0;32m     19\u001b[0m \u001b[1;33m\u001b[0m\u001b[0m\n\u001b[1;32m---> 20\u001b[1;33m \u001b[0mprint\u001b[0m\u001b[1;33m(\u001b[0m\u001b[0mrf\u001b[0m\u001b[1;33m.\u001b[0m\u001b[0m_base_estimator_\u001b[0m\u001b[1;33m)\u001b[0m\u001b[1;33m\u001b[0m\u001b[0m\n\u001b[0m\u001b[0;32m     21\u001b[0m \u001b[0mX\u001b[0m \u001b[1;33m=\u001b[0m \u001b[0mnp\u001b[0m\u001b[1;33m.\u001b[0m\u001b[0marray\u001b[0m\u001b[1;33m(\u001b[0m\u001b[0mfeat\u001b[0m\u001b[1;33m)\u001b[0m\u001b[1;33m\u001b[0m\u001b[0m\n\u001b[0;32m     22\u001b[0m \u001b[1;33m\u001b[0m\u001b[0m\n",
      "\u001b[1;31mAttributeError\u001b[0m: 'RandomForestRegressor' object has no attribute '_base_estimator_'"
     ]
    }
   ],
   "source": [
    "seq = 8\n",
    "poses_file = os.path.join('data', 'paths', '%02d.txt' % seq)\n",
    "\n",
    "dts = np.array(read_dts(poses_file))\n",
    "scale = LA.norm(dts[0,:])\n",
    "\n",
    "print('read a total of', dts.shape[0], 'scales from', poses_file)\n",
    "print('ground truth scale:', scale, )\n",
    "\n",
    "y = LA.norm(dts, axis=1) / scale\n",
    "\n",
    "# load the precomputed features\n",
    "with gzip.open(os.path.join('data', 'features', 'un_%02d_1_6_4_100.pklz' % seq), 'rb') as fd:\n",
    "    pairs, feat, dts = pickle.load(fd)\n",
    "\n",
    "# load the model\n",
    "with open(os.path.join('data', 'models', 'rf_un_1_2_6_4_100.pkl'), 'rb') as fd:\n",
    "    rf = pickle.load(fd)\n",
    "\n",
    "X = np.array(feat)\n",
    "\n",
    "# predict\n",
    "y_pred = rf.predict(X)\n",
    "\n",
    "# compute scale estimate\n",
    "scale_est = np.dot(y_pred, y).sum()/np.dot(y, y).sum()\n",
    "print('estimated scale', scale_est)"
   ]
  },
  {
   "cell_type": "code",
   "execution_count": 69,
   "metadata": {
    "collapsed": false
   },
   "outputs": [
    {
     "name": "stdout",
     "output_type": "stream",
     "text": [
      "['__abstractmethods__', '__class__', '__delattr__', '__dict__', '__dir__', '__doc__', '__eq__', '__format__', '__ge__', '__getattribute__', '__gt__', '__hash__', '__init__', '__le__', '__lt__', '__module__', '__ne__', '__new__', '__reduce__', '__reduce_ex__', '__repr__', '__setattr__', '__sizeof__', '__str__', '__subclasshook__', '__weakref__', '_abc_cache', '_abc_negative_cache', '_abc_negative_cache_version', '_abc_registry', '_estimator_type', '_get_param_names', '_validate_X_predict', 'apply', 'class_weight', 'classes_', 'criterion', 'decision_path', 'feature_importances_', 'fit', 'fit_transform', 'get_params', 'max_depth', 'max_features', 'max_features_', 'max_leaf_nodes', 'min_samples_leaf', 'min_samples_split', 'min_weight_fraction_leaf', 'n_classes_', 'n_features_', 'n_outputs_', 'predict', 'presort', 'random_state', 'score', 'set_params', 'splitter', 'transform', 'tree_']\n",
      "[Parallel(n_jobs=8)]: Done   1 tasks      | elapsed:    0.0s\n",
      "[Parallel(n_jobs=8)]: Done   2 tasks      | elapsed:    0.0s\n",
      "[Parallel(n_jobs=8)]: Done   3 tasks      | elapsed:    0.0s\n",
      "[Parallel(n_jobs=8)]: Done   4 tasks      | elapsed:    0.0s\n",
      "[Parallel(n_jobs=8)]: Done   5 tasks      | elapsed:    0.0s\n",
      "[Parallel(n_jobs=8)]: Done   6 tasks      | elapsed:    0.0s\n",
      "[Parallel(n_jobs=8)]: Done   7 tasks      | elapsed:    0.0s\n",
      "[Parallel(n_jobs=8)]: Done   8 tasks      | elapsed:    0.0s\n",
      "[Parallel(n_jobs=8)]: Done   9 tasks      | elapsed:    0.0s\n",
      "[Parallel(n_jobs=8)]: Done  10 tasks      | elapsed:    0.0s\n",
      "[Parallel(n_jobs=8)]: Done  11 tasks      | elapsed:    0.0s\n",
      "[Parallel(n_jobs=8)]: Done  12 tasks      | elapsed:    0.0s\n",
      "[Parallel(n_jobs=8)]: Done  13 tasks      | elapsed:    0.0s\n",
      "[Parallel(n_jobs=8)]: Done  14 tasks      | elapsed:    0.0s\n",
      "[Parallel(n_jobs=8)]: Done  15 tasks      | elapsed:    0.0s\n",
      "[Parallel(n_jobs=8)]: Done  16 tasks      | elapsed:    0.0s\n",
      "[Parallel(n_jobs=8)]: Done  17 tasks      | elapsed:    0.0s\n",
      "[Parallel(n_jobs=8)]: Done  18 tasks      | elapsed:    0.0s\n",
      "[Parallel(n_jobs=8)]: Done  19 tasks      | elapsed:    0.0s\n",
      "[Parallel(n_jobs=8)]: Done  20 tasks      | elapsed:    0.0s\n",
      "[Parallel(n_jobs=8)]: Done  21 tasks      | elapsed:    0.0s\n",
      "[Parallel(n_jobs=8)]: Done  22 tasks      | elapsed:    0.0s\n",
      "[Parallel(n_jobs=8)]: Done  23 tasks      | elapsed:    0.0s\n",
      "[Parallel(n_jobs=8)]: Done  24 tasks      | elapsed:    0.0s\n",
      "[Parallel(n_jobs=8)]: Done  25 tasks      | elapsed:    0.0s\n",
      "[Parallel(n_jobs=8)]: Done  26 tasks      | elapsed:    0.0s\n",
      "[Parallel(n_jobs=8)]: Done  27 tasks      | elapsed:    0.0s\n",
      "[Parallel(n_jobs=8)]: Done  28 tasks      | elapsed:    0.0s\n",
      "[Parallel(n_jobs=8)]: Done  29 tasks      | elapsed:    0.0s\n",
      "[Parallel(n_jobs=8)]: Done  30 tasks      | elapsed:    0.0s\n",
      "[Parallel(n_jobs=8)]: Done  31 tasks      | elapsed:    0.0s\n",
      "[Parallel(n_jobs=8)]: Done  32 tasks      | elapsed:    0.0s\n",
      "[Parallel(n_jobs=8)]: Done  33 tasks      | elapsed:    0.0s\n",
      "[Parallel(n_jobs=8)]: Done  34 tasks      | elapsed:    0.0s\n",
      "[Parallel(n_jobs=8)]: Done  35 tasks      | elapsed:    0.0s\n",
      "[Parallel(n_jobs=8)]: Done  36 tasks      | elapsed:    0.0s\n",
      "[Parallel(n_jobs=8)]: Done  37 tasks      | elapsed:    0.0s\n",
      "[Parallel(n_jobs=8)]: Done  38 tasks      | elapsed:    0.0s\n",
      "[Parallel(n_jobs=8)]: Done  39 tasks      | elapsed:    0.0s\n",
      "[Parallel(n_jobs=8)]: Done  40 tasks      | elapsed:    0.0s\n",
      "[Parallel(n_jobs=8)]: Done  41 tasks      | elapsed:    0.0s\n",
      "[Parallel(n_jobs=8)]: Done  42 tasks      | elapsed:    0.0s\n",
      "[Parallel(n_jobs=8)]: Done  43 tasks      | elapsed:    0.0s\n",
      "[Parallel(n_jobs=8)]: Done  44 tasks      | elapsed:    0.0s\n",
      "[Parallel(n_jobs=8)]: Done  45 tasks      | elapsed:    0.0s\n",
      "[Parallel(n_jobs=8)]: Done  46 tasks      | elapsed:    0.0s\n",
      "[Parallel(n_jobs=8)]: Done  47 tasks      | elapsed:    0.0s\n",
      "[Parallel(n_jobs=8)]: Done  48 tasks      | elapsed:    0.0s\n",
      "[Parallel(n_jobs=8)]: Done  49 tasks      | elapsed:    0.0s\n",
      "[Parallel(n_jobs=8)]: Done  50 tasks      | elapsed:    0.0s\n",
      "[Parallel(n_jobs=8)]: Done  51 tasks      | elapsed:    0.0s\n",
      "[Parallel(n_jobs=8)]: Done  52 tasks      | elapsed:    0.0s\n",
      "[Parallel(n_jobs=8)]: Done  53 tasks      | elapsed:    0.0s\n",
      "[Parallel(n_jobs=8)]: Done  54 tasks      | elapsed:    0.0s\n",
      "[Parallel(n_jobs=8)]: Done  55 tasks      | elapsed:    0.0s\n",
      "[Parallel(n_jobs=8)]: Done  56 tasks      | elapsed:    0.0s\n",
      "[Parallel(n_jobs=8)]: Done  57 tasks      | elapsed:    0.0s\n",
      "[Parallel(n_jobs=8)]: Done  58 tasks      | elapsed:    0.0s\n",
      "[Parallel(n_jobs=8)]: Done  59 tasks      | elapsed:    0.0s\n",
      "[Parallel(n_jobs=8)]: Done  60 tasks      | elapsed:    0.0s\n",
      "[Parallel(n_jobs=8)]: Done  61 tasks      | elapsed:    0.0s\n",
      "[Parallel(n_jobs=8)]: Done  62 tasks      | elapsed:    0.0s\n",
      "[Parallel(n_jobs=8)]: Done  63 tasks      | elapsed:    0.0s\n",
      "[Parallel(n_jobs=8)]: Done  64 tasks      | elapsed:    0.0s\n",
      "[Parallel(n_jobs=8)]: Done  65 tasks      | elapsed:    0.0s\n",
      "[Parallel(n_jobs=8)]: Done  66 tasks      | elapsed:    0.0s\n",
      "[Parallel(n_jobs=8)]: Done  67 tasks      | elapsed:    0.0s\n",
      "[Parallel(n_jobs=8)]: Done  68 tasks      | elapsed:    0.0s\n",
      "[Parallel(n_jobs=8)]: Done  69 tasks      | elapsed:    0.0s\n",
      "[Parallel(n_jobs=8)]: Done  70 tasks      | elapsed:    0.0s\n",
      "[Parallel(n_jobs=8)]: Done  71 tasks      | elapsed:    0.0s\n",
      "[Parallel(n_jobs=8)]: Done  72 tasks      | elapsed:    0.0s\n",
      "[Parallel(n_jobs=8)]: Done  73 tasks      | elapsed:    0.0s\n",
      "[Parallel(n_jobs=8)]: Done  74 tasks      | elapsed:    0.0s\n",
      "[Parallel(n_jobs=8)]: Done  75 tasks      | elapsed:    0.0s\n",
      "[Parallel(n_jobs=8)]: Done  76 tasks      | elapsed:    0.0s\n",
      "[Parallel(n_jobs=8)]: Done  77 tasks      | elapsed:    0.0s\n",
      "[Parallel(n_jobs=8)]: Done  78 tasks      | elapsed:    0.0s\n",
      "[Parallel(n_jobs=8)]: Done  79 tasks      | elapsed:    0.0s\n",
      "[Parallel(n_jobs=8)]: Done  80 tasks      | elapsed:    0.0s\n",
      "[Parallel(n_jobs=8)]: Done  81 tasks      | elapsed:    0.0s\n",
      "[Parallel(n_jobs=8)]: Done  82 tasks      | elapsed:    0.0s\n",
      "[Parallel(n_jobs=8)]: Done  83 tasks      | elapsed:    0.0s\n",
      "[Parallel(n_jobs=8)]: Done  84 tasks      | elapsed:    0.0s\n",
      "[Parallel(n_jobs=8)]: Done  85 tasks      | elapsed:    0.0s\n",
      "[Parallel(n_jobs=8)]: Done 100 out of 100 | elapsed:    0.0s finished\n",
      "[[25788 25762 21554 26098 25967 25917 25976 26106 24872 25041 26045 25145\n",
      "  26099 25896 22524 24991 24924 24926 24987 23308 25105 23514 21571 24739\n",
      "  24993 24836 23354 26084 24294 22729 24263 24748 25947 25042 23596 25917\n",
      "  24027 25923 22000 22999 24484 25964 25025 25904 26007 21960 24995 24734\n",
      "  25019 24998 24228 23548 22547 24994 26045 25710 25798 23296 25794 23943\n",
      "  24356 22295 24655 23865 22404 25282 21734 22095 25727 23039 25070 24968\n",
      "  22684 24520 26055 22732 25925 23381 23487 22562 22426 25957 25124 25104\n",
      "  22551 25015 26085 25030 21883 26132 25176 24886 22530 23650 25943 26133\n",
      "  24697 22558 25980 26164]]\n"
     ]
    },
    {
     "name": "stderr",
     "output_type": "stream",
     "text": [
      "/home/kreimer/prj/monos/.env/lib/python3.5/site-packages/sklearn/utils/validation.py:394: DeprecationWarning: Passing 1d arrays as data is deprecated in 0.17 and will raise ValueError in 0.19. Reshape your data either using X.reshape(-1, 1) if your data has a single feature or X.reshape(1, -1) if it contains a single sample.\n",
      "  DeprecationWarning)\n"
     ]
    }
   ],
   "source": [
    "t1 = rf.estimators_[0]\n",
    "print(dir(t1))\n",
    "print(rf.apply(X[1,:]))"
   ]
  },
  {
   "cell_type": "code",
   "execution_count": null,
   "metadata": {
    "collapsed": true
   },
   "outputs": [],
   "source": []
  }
 ],
 "metadata": {
  "kernelspec": {
   "display_name": "Python 3",
   "language": "python",
   "name": "python3"
  },
  "language_info": {
   "codemirror_mode": {
    "name": "ipython",
    "version": 3
   },
   "file_extension": ".py",
   "mimetype": "text/x-python",
   "name": "python",
   "nbconvert_exporter": "python",
   "pygments_lexer": "ipython3",
   "version": "3.5.1+"
  }
 },
 "nbformat": 4,
 "nbformat_minor": 0
}
