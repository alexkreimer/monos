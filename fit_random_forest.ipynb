{
 "cells": [
  {
   "cell_type": "code",
   "execution_count": 10,
   "metadata": {
    "collapsed": true
   },
   "outputs": [],
   "source": [
    "%matplotlib inline"
   ]
  },
  {
   "cell_type": "code",
   "execution_count": 11,
   "metadata": {
    "collapsed": true
   },
   "outputs": [],
   "source": [
    "import numpy as np\n",
    "\n",
    "import pickle, os, math\n",
    "import multiprocessing as mp\n",
    "import matplotlib.pyplot as plt\n",
    "from timeit import default_timer as timer\n",
    "\n",
    "from sklearn.ensemble import RandomForestRegressor, GradientBoostingRegressor, ExtraTreesRegressor\n",
    "from sklearn.metrics import mean_squared_error\n",
    "from sklearn import linear_model\n",
    "from sklearn import svm\n",
    "from sklearn import gaussian_process\n",
    "from sklearn import preprocessing\n",
    "from sklearn import neural_network\n",
    "\n",
    "from scipy import stats\n",
    "import gzip"
   ]
  },
  {
   "cell_type": "code",
   "execution_count": 12,
   "metadata": {
    "collapsed": false
   },
   "outputs": [],
   "source": [
    "def plot_errors(y1, y2):\n",
    "    f, (ax1, ax2) = plt.subplots(1, 2)\n",
    "    ax1.scatter(y1, y2)\n",
    "    n, bins, patches = ax2.hist(y1-y2, 50, facecolor='green', alpha=0.75)"
   ]
  },
  {
   "cell_type": "code",
   "execution_count": 13,
   "metadata": {
    "collapsed": true
   },
   "outputs": [],
   "source": [
    "class LeafNode:\n",
    "    \n",
    "    def __init__(self):\n",
    "        self.X, self.y, self.pairs = [], [], []\n",
    "        \n",
    "    def append(self, X, y, pair):\n",
    "        #print('id(self)', id(self), 'append X.shape', X.shape, 'y', y)\n",
    "        self.X.append(X.ravel())\n",
    "        self.y.append(y)\n",
    "        self.pairs.append(pair)\n",
    "        #print('len(self.X):', len(self.X), 'len(y):', len(self.y))\n",
    "    \n",
    "    def __str__(self):\n",
    "        return 'leaf has ' + str(len(self.y)) + ' samples'\n",
    "\n",
    "    def lreg(self):\n",
    "        linreg = linear_model.LinearRegression(fit_intercept=True, normalize=False, copy_X=True, n_jobs=1)\n",
    "        #print('fit linear regression')\n",
    "        #print('len(X):', len(self.X), 'y:', len(self.y))\n",
    "        #print('X.shape:', np.array(self.X).shape, 'y.shape:', np.array(self.y).shape)\n",
    "        linreg.fit(np.array(self.X), np.array(self.y))\n",
    "        return linreg"
   ]
  },
  {
   "cell_type": "code",
   "execution_count": 14,
   "metadata": {
    "collapsed": true
   },
   "outputs": [],
   "source": [
    "class LinearRegETR(ExtraTreesRegressor):\n",
    "    \n",
    "    def __init__(self, n_estimators=10, n_jobs=1):\n",
    "        super(LinearRegETR, self).__init__(n_estimators=n_estimators, n_jobs=n_jobs)\n",
    "    \n",
    "    def fit_leaf_model(self, X, y):\n",
    "\n",
    "        # dictionary for each tree in the ensemble\n",
    "        self.ensemble_leaf_data = [{}] * self.n_estimators\n",
    "        #print('number of estimators:', self.n_estimators)\n",
    "        \n",
    "        # for each sample\n",
    "        #print('shape of the training data X:', X.shape, 'y:', y.shape)\n",
    "        k=0\n",
    "        for x, y_value, pair in zip(X, y, pairs):\n",
    "            k = k + 1\n",
    "            # as per np request :)\n",
    "            x = x.reshape(1,-1)\n",
    "            \n",
    "            # get a list of leafs that each point lands in\n",
    "            indices = self.apply(x)[0]\n",
    "        \n",
    "            # put them in the dictionary\n",
    "            #print('update leaf models with a new sample')\n",
    "            for tnum, lind in enumerate(indices):\n",
    "                lnode = self.ensemble_leaf_data[tnum].get(lind, LeafNode())\n",
    "                lnode.append(x, y_value, pair)\n",
    "                self.ensemble_leaf_data[tnum][lind] = lnode\n",
    "                \n",
    "        #print('processed samples:', k)\n",
    "        #for tree in self.ensemble_leaf_data:\n",
    "        #    for leafs in tree:\n",
    "        #        for key, value in tree.items():\n",
    "        #            print(key, ':', value)\n",
    "\n",
    "    def leaf_model_predict(self, X):\n",
    "        result = []\n",
    "        for x in X:\n",
    "            x = x.reshape(1, -1)\n",
    "            leaf_indices = self.apply(x)[0]\n",
    "            y_pred = [None]*self.n_estimators\n",
    "            for tnum, lind in enumerate(leaf_indices):\n",
    "                lnode = self.ensemble_leaf_data[tnum].get(lind)\n",
    "                y_pred[tnum] = lnode.lreg().predict(x)\n",
    "                #print('tree number:', tnum, 'predicts:', y_pred[tnum])\n",
    "            result.append(np.mean(y_pred))\n",
    "        return np.array(result)\n",
    "\n",
    "    def fit(self, X, y, pairs):\n",
    "        model = super(LinearRegETR, self).fit(X, y)\n",
    "        self.fit_leaf_model(X, y, pairs)\n",
    "        return model\n",
    "    \n",
    "    def predict(self, X):\n",
    "        return self.leaf_model_predict(X)"
   ]
  },
  {
   "cell_type": "code",
   "execution_count": 15,
   "metadata": {
    "collapsed": false
   },
   "outputs": [],
   "source": [
    "def fit_rf(dataset_label):\n",
    "    label = dataset_label\n",
    "    \n",
    "    # load the training and the validation data\n",
    "    train = pickle.load(gzip.open('data/datasets/train_%s.pklz' % label, 'rb'))\n",
    "    print(train.keys())\n",
    "    X_train, y_train, pairs_train = train['X'], train['y'], train['pairs']\n",
    "\n",
    "    # compute the mean and the std\n",
    "    scaler = preprocessing.StandardScaler().fit(X_train)\n",
    "    # subtract the mean and divide by the std\n",
    "    X_train = scaler.transform(X_train)\n",
    "    \n",
    "    stats_res = stats.describe(y_train)    \n",
    "    n, bins, patches = plt.hist(y_train, 50, normed=1, facecolor='green', alpha=0.75)\n",
    "    plt.grid(True)\n",
    "    plt.title('target data distribution: %s $\\mu=%0.2g,\\sigma=%0.2g$' % (label, stats_res.mean, math.sqrt(stats_res.variance)))\n",
    "    plt.show()\n",
    "\n",
    "    valid = pickle.load(gzip.open('data/datasets/valid_%s.pklz' % label, 'rb'))\n",
    "    X_valid, y_valid, pairs_valid = scaler.transform(valid['X']), valid['y'], valid['pairs']\n",
    "\n",
    "    n_estimators = 10\n",
    "    models = [('LRETR', LinearRegETR()),]\n",
    "    \n",
    "    for tag, clf in models:\n",
    "        print('model:', tag)\n",
    "        start = timer()\n",
    "        clf.fit(X_train, y_train, pairs_train)\n",
    "        end = timer()\n",
    "        print('%s, fit wall time:' % label, end-start)\n",
    "    \n",
    "        print('build custom leaf model')\n",
    "        \n",
    "        # compute the predictions the validation data\n",
    "        y_pred = clf.predict(X_valid[0,:])\n",
    "        print('predicted value:', y_pred)\n",
    "        print('valid values:', y_valid[0], 'pair:', pairs_valid[0])\n",
    "        \n",
    "        mse = mean_squared_error(y_pred, y_valid[0])\n",
    "        \n",
    "        print(\"RMSE: %.2f\" % math.sqrt(mse))\n",
    "        \n",
    "        #plot_errors(y_pred, y_valid)\n",
    "        #plt.show()\n",
    "\n",
    "        #with open(os.path.join('data', 'models', 'rf_%s.pkl' % label), 'wb') as fid:\n",
    "        #    pickle.dump(clf, fid)   "
   ]
  },
  {
   "cell_type": "code",
   "execution_count": 17,
   "metadata": {
    "collapsed": false
   },
   "outputs": [
    {
     "name": "stdout",
     "output_type": "stream",
     "text": [
      "dict_keys(['y', 'X', 'pairs'])\n"
     ]
    },
    {
     "name": "stderr",
     "output_type": "stream",
     "text": [
      "/home/kreimer/tmp/scikit-learn/sklearn/utils/validation.py:428: DataConversionWarning: Data with input dtype int64 was converted to float64 by StandardScaler.\n",
      "  warnings.warn(msg, _DataConversionWarning)\n"
     ]
    },
    {
     "data": {
      "image/png": "[encoded data removed]",
      "text/plain": [
       "<matplotlib.figure.Figure at 0x7fe371297358>"
      ]
     },
     "metadata": {},
     "output_type": "display_data"
    },
    {
     "name": "stdout",
     "output_type": "stream",
     "text": [
      "model: LRETR\n"
     ]
    },
    {
     "ename": "TypeError",
     "evalue": "fit_leaf_model() takes 3 positional arguments but 4 were given",
     "output_type": "error",
     "traceback": [
      "\u001b[1;31m---------------------------------------------------------------------------\u001b[0m",
      "\u001b[1;31mTypeError\u001b[0m                                 Traceback (most recent call last)",
      "\u001b[1;32m<ipython-input-17-ad7d13e9ec5f>\u001b[0m in \u001b[0;36m<module>\u001b[1;34m()\u001b[0m\n\u001b[0;32m      4\u001b[0m \u001b[1;33m\u001b[0m\u001b[0m\n\u001b[0;32m      5\u001b[0m \u001b[1;32mfor\u001b[0m \u001b[0mlabel\u001b[0m \u001b[1;32min\u001b[0m \u001b[0mlabels\u001b[0m\u001b[1;33m:\u001b[0m\u001b[1;33m\u001b[0m\u001b[0m\n\u001b[1;32m----> 6\u001b[1;33m     \u001b[0mfit_rf\u001b[0m\u001b[1;33m(\u001b[0m\u001b[0mlabel\u001b[0m\u001b[1;33m)\u001b[0m\u001b[1;33m\u001b[0m\u001b[0m\n\u001b[0m",
      "\u001b[1;32m<ipython-input-15-b9b62ecc3b42>\u001b[0m in \u001b[0;36mfit_rf\u001b[1;34m(dataset_label)\u001b[0m\n\u001b[0;32m     27\u001b[0m         \u001b[0mprint\u001b[0m\u001b[1;33m(\u001b[0m\u001b[1;34m'model:'\u001b[0m\u001b[1;33m,\u001b[0m \u001b[0mtag\u001b[0m\u001b[1;33m)\u001b[0m\u001b[1;33m\u001b[0m\u001b[0m\n\u001b[0;32m     28\u001b[0m         \u001b[0mstart\u001b[0m \u001b[1;33m=\u001b[0m \u001b[0mtimer\u001b[0m\u001b[1;33m(\u001b[0m\u001b[1;33m)\u001b[0m\u001b[1;33m\u001b[0m\u001b[0m\n\u001b[1;32m---> 29\u001b[1;33m         \u001b[0mclf\u001b[0m\u001b[1;33m.\u001b[0m\u001b[0mfit\u001b[0m\u001b[1;33m(\u001b[0m\u001b[0mX_train\u001b[0m\u001b[1;33m,\u001b[0m \u001b[0my_train\u001b[0m\u001b[1;33m,\u001b[0m \u001b[0mpairs_train\u001b[0m\u001b[1;33m)\u001b[0m\u001b[1;33m\u001b[0m\u001b[0m\n\u001b[0m\u001b[0;32m     30\u001b[0m         \u001b[0mend\u001b[0m \u001b[1;33m=\u001b[0m \u001b[0mtimer\u001b[0m\u001b[1;33m(\u001b[0m\u001b[1;33m)\u001b[0m\u001b[1;33m\u001b[0m\u001b[0m\n\u001b[0;32m     31\u001b[0m         \u001b[0mprint\u001b[0m\u001b[1;33m(\u001b[0m\u001b[1;34m'%s, fit wall time:'\u001b[0m \u001b[1;33m%\u001b[0m \u001b[0mlabel\u001b[0m\u001b[1;33m,\u001b[0m \u001b[0mend\u001b[0m\u001b[1;33m-\u001b[0m\u001b[0mstart\u001b[0m\u001b[1;33m)\u001b[0m\u001b[1;33m\u001b[0m\u001b[0m\n",
      "\u001b[1;32m<ipython-input-14-e4537a585ec3>\u001b[0m in \u001b[0;36mfit\u001b[1;34m(self, X, y, pairs)\u001b[0m\n\u001b[0;32m     49\u001b[0m     \u001b[1;32mdef\u001b[0m \u001b[0mfit\u001b[0m\u001b[1;33m(\u001b[0m\u001b[0mself\u001b[0m\u001b[1;33m,\u001b[0m \u001b[0mX\u001b[0m\u001b[1;33m,\u001b[0m \u001b[0my\u001b[0m\u001b[1;33m,\u001b[0m \u001b[0mpairs\u001b[0m\u001b[1;33m)\u001b[0m\u001b[1;33m:\u001b[0m\u001b[1;33m\u001b[0m\u001b[0m\n\u001b[0;32m     50\u001b[0m         \u001b[0mmodel\u001b[0m \u001b[1;33m=\u001b[0m \u001b[0msuper\u001b[0m\u001b[1;33m(\u001b[0m\u001b[0mLinearRegETR\u001b[0m\u001b[1;33m,\u001b[0m \u001b[0mself\u001b[0m\u001b[1;33m)\u001b[0m\u001b[1;33m.\u001b[0m\u001b[0mfit\u001b[0m\u001b[1;33m(\u001b[0m\u001b[0mX\u001b[0m\u001b[1;33m,\u001b[0m \u001b[0my\u001b[0m\u001b[1;33m)\u001b[0m\u001b[1;33m\u001b[0m\u001b[0m\n\u001b[1;32m---> 51\u001b[1;33m         \u001b[0mself\u001b[0m\u001b[1;33m.\u001b[0m\u001b[0mfit_leaf_model\u001b[0m\u001b[1;33m(\u001b[0m\u001b[0mX\u001b[0m\u001b[1;33m,\u001b[0m \u001b[0my\u001b[0m\u001b[1;33m,\u001b[0m \u001b[0mpairs\u001b[0m\u001b[1;33m)\u001b[0m\u001b[1;33m\u001b[0m\u001b[0m\n\u001b[0m\u001b[0;32m     52\u001b[0m         \u001b[1;32mreturn\u001b[0m \u001b[0mmodel\u001b[0m\u001b[1;33m\u001b[0m\u001b[0m\n\u001b[0;32m     53\u001b[0m \u001b[1;33m\u001b[0m\u001b[0m\n",
      "\u001b[1;31mTypeError\u001b[0m: fit_leaf_model() takes 3 positional arguments but 4 were given"
     ]
    }
   ],
   "source": [
    "labels = []\n",
    "\n",
    "labels.append('un_1_6_4_100_un_2_6_4_100')\n",
    "\n",
    "for label in labels:\n",
    "    fit_rf(label)"
   ]
  },
  {
   "cell_type": "code",
   "execution_count": null,
   "metadata": {
    "collapsed": true
   },
   "outputs": [],
   "source": [
    "def show_pair(pair):\n",
    "    i1 = read_image"
   ]
  }
 ],
 "metadata": {
  "kernelspec": {
   "display_name": "Python 3",
   "language": "python",
   "name": "python3"
  },
  "language_info": {
   "codemirror_mode": {
    "name": "ipython",
    "version": 3
   },
   "file_extension": ".py",
   "mimetype": "text/x-python",
   "name": "python",
   "nbconvert_exporter": "python",
   "pygments_lexer": "ipython3",
   "version": "3.5.1+"
  }
 },
 "nbformat": 4,
 "nbformat_minor": 0
}
