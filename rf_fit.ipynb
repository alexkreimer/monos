{
 "cells": [
  {
   "cell_type": "code",
   "execution_count": 1,
   "metadata": {
    "collapsed": true
   },
   "outputs": [],
   "source": [
    "%matplotlib inline"
   ]
  },
  {
   "cell_type": "code",
   "execution_count": null,
   "metadata": {
    "collapsed": false
   },
   "outputs": [],
   "source": [
    "import numpy as np\n",
    "from sklearn.ensemble import RandomForestRegressor\n",
    "import pickle\n",
    "import multiprocessing as mp\n",
    "import matplotlib.pyplot as plt\n",
    "\n",
    "n_estimators = 100\n",
    "\n",
    "labels = ['5bins_edges', '200bins']\n",
    "\n",
    "for label in labels:\n",
    "    train = pickle.load(open('data/train_%s.pickle' % label, 'rb'))\n",
    "    rf = RandomForestRegressor(n_estimators=n_estimators, n_jobs=mp.cpu_count())\n",
    "    rf.fit(train['X'], train['y'])\n",
    "    valid = pickle.load(open('data/valid_%s.pickle' % label, 'rb'))\n",
    "    y_pred = rf.predict(valid['X'])\n",
    "\n",
    "    from sklearn.metrics import mean_squared_error\n",
    "    score = mean_squared_error(y_pred, valid['y'])\n",
    "    print('MSE:', score)"
   ]
  },
  {
   "cell_type": "code",
   "execution_count": null,
   "metadata": {
    "collapsed": false
   },
   "outputs": [],
   "source": [
    "for label in labels:\n",
    "    with open('rf_%s.pkl' % label, 'rb') as fd:\n",
    "        rf = pickle.load(fd)\n",
    "    plt.figure()\n",
    "    plt.scatter(valid['y'], y_pred)\n",
    "    plt.title('Random forest predictor with %s trees for %s' % (n_estimators, label))    \n",
    "    \n",
    "    plt.figure()\n",
    "    n, bins, patches = plt.hist(y_pred-valid['y'], 50, facecolor='green', alpha=0.75)\n",
    "    plt.title('Error histogram: %s' % label)\n",
    "plt.show()    "
   ]
  },
  {
   "cell_type": "code",
   "execution_count": null,
   "metadata": {
    "collapsed": true
   },
   "outputs": [],
   "source": []
  }
 ],
 "metadata": {
  "kernelspec": {
   "display_name": "Python 3",
   "language": "python",
   "name": "python3"
  },
  "language_info": {
   "codemirror_mode": {
    "name": "ipython",
    "version": 3
   },
   "file_extension": ".py",
   "mimetype": "text/x-python",
   "name": "python",
   "nbconvert_exporter": "python",
   "pygments_lexer": "ipython3",
   "version": "3.5.1+"
  }
 },
 "nbformat": 4,
 "nbformat_minor": 0
}
